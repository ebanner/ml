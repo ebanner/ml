{
 "cells": [
  {
   "cell_type": "markdown",
   "metadata": {},
   "source": [
    "# RNN\n",
    "\n",
    "Test out vectorized RNN implementation"
   ]
  },
  {
   "cell_type": "markdown",
   "metadata": {},
   "source": [
    "### Hyperparameters"
   ]
  },
  {
   "cell_type": "code",
   "execution_count": 1,
   "metadata": {
    "collapsed": true
   },
   "outputs": [],
   "source": [
    "NUM_HIDDEN = 5\n",
    "NUM_CLASSES = 3\n",
    "LEARNING_RATE = .1\n",
    "REGULARIZER = .001\n",
    "GRADIENT_CHECKING = False\n",
    "INSPECT = True"
   ]
  },
  {
   "cell_type": "markdown",
   "metadata": {},
   "source": [
    "### Load Data"
   ]
  },
  {
   "cell_type": "code",
   "execution_count": 2,
   "metadata": {
    "collapsed": false
   },
   "outputs": [
    {
     "data": {
      "text/plain": [
       "(array([[ 1,  1, -1,  1]]), array([0, 0, 2, 1]))"
      ]
     },
     "execution_count": 2,
     "metadata": {},
     "output_type": "execute_result"
    }
   ],
   "source": [
    "from data.rnn import X_train, Y_train\n",
    "\n",
    "X_train, Y_train"
   ]
  },
  {
   "cell_type": "markdown",
   "metadata": {},
   "source": [
    "### Train"
   ]
  },
  {
   "cell_type": "code",
   "execution_count": 3,
   "metadata": {
    "collapsed": true
   },
   "outputs": [],
   "source": [
    "from rnn.model import RecurrentNeuralNetwork\n",
    "from rnn.support import Snapshot\n",
    "\n",
    "rnn = RecurrentNeuralNetwork(X_train, Y_train, H=NUM_HIDDEN, C=NUM_CLASSES, learning_rate=LEARNING_RATE, regularizer=REGULARIZER, gradient_checking=GRADIENT_CHECKING, inspect=INSPECT)\n",
    "\n",
    "def states(iters):\n",
    "    for _ in range(iters):\n",
    "        rnn.learn()\n",
    "        yield rnn.info\n",
    "        \n",
    "states = list(states(100))\n",
    "\n",
    "df = pd.DataFrame(states, columns=Snapshot._fields)"
   ]
  },
  {
   "cell_type": "markdown",
   "metadata": {},
   "source": [
    "### Loss"
   ]
  },
  {
   "cell_type": "code",
   "execution_count": 4,
   "metadata": {
    "collapsed": false
   },
   "outputs": [
    {
     "data": {
      "text/plain": [
       "<matplotlib.axes._subplots.AxesSubplot at 0x7f1c2b78ae48>"
      ]
     },
     "execution_count": 4,
     "metadata": {},
     "output_type": "execute_result"
    },
    {
     "data": {
      "image/png": "[encoded data removed]",
      "text/plain": [
       "<matplotlib.figure.Figure at 0x7f1c2b777c88>"
      ]
     },
     "metadata": {},
     "output_type": "display_data"
    }
   ],
   "source": [
    "df.loss.plot()"
   ]
  },
  {
   "cell_type": "markdown",
   "metadata": {},
   "source": [
    "### Plot Scores Over Time"
   ]
  },
  {
   "cell_type": "code",
   "execution_count": 5,
   "metadata": {
    "collapsed": false
   },
   "outputs": [
    {
     "name": "stdout",
     "output_type": "stream",
     "text": [
      "[[ 1  1 -1  1]]\n",
      "[0 0 2 1]\n"
     ]
    },
    {
     "data": {
      "image/png": "[encoded data removed]",
      "text/plain": [
       "<matplotlib.figure.Figure at 0x7f1c2ace6b70>"
      ]
     },
     "metadata": {},
     "output_type": "display_data"
    }
   ],
   "source": [
    "from ipywidgets import interact, fixed\n",
    "\n",
    "N, T = X_train.shape\n",
    "\n",
    "@interact(X_train=fixed(X_train), Y_train=fixed(Y_train), iter_index=(0, len(states)-1))\n",
    "def plot(X_train, Y_train, iter_index):\n",
    "    s = states[iter_index]\n",
    "    \n",
    "    rnn = RecurrentNeuralNetwork(X=X_train, ys_train=Y_train, H=5, C=3,\n",
    "                                 Whh=s.Whh, bhh=s.bhh, Wxh=s.Wxh, bxh=s.bxh, Ws=s.Ws, bs=s.bs)\n",
    "    \n",
    "    scores, predictions = rnn.predict(X_train)\n",
    "    \n",
    "    print(X_train)\n",
    "    print(Y_train)\n",
    "    \n",
    "    plt.imshow(scores, interpolation='nearest')"
   ]
  }
 ],
 "metadata": {
  "kernelspec": {
   "display_name": "Python 3",
   "language": "python",
   "name": "python3"
  },
  "language_info": {
   "codemirror_mode": {
    "name": "ipython",
    "version": 3
   },
   "file_extension": ".py",
   "mimetype": "text/x-python",
   "name": "python",
   "nbconvert_exporter": "python",
   "pygments_lexer": "ipython3",
   "version": "3.5.0"
  }
 },
 "nbformat": 4,
 "nbformat_minor": 0
}
