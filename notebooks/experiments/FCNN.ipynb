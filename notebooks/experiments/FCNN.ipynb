{
 "cells": [
  {
   "cell_type": "markdown",
   "metadata": {},
   "source": [
    "# Fully-Connected Neural Network"
   ]
  },
  {
   "cell_type": "markdown",
   "metadata": {},
   "source": [
    "### Hyperparameters"
   ]
  },
  {
   "cell_type": "code",
   "execution_count": 19,
   "metadata": {
    "collapsed": true
   },
   "outputs": [],
   "source": [
    "ITERATIONS = 20000\n",
    "HIDDENS = [3]\n",
    "NUM_CLASSES = 2\n",
    "LEARNING_RATE = .1\n",
    "REGULARIZER = 0\n",
    "GRADIENT_CHECKING = False\n",
    "BATCH_SIZE, RANDOM_MINIBATCH = 1, True"
   ]
  },
  {
   "cell_type": "markdown",
   "metadata": {},
   "source": [
    "### Load Data"
   ]
  },
  {
   "cell_type": "code",
   "execution_count": 20,
   "metadata": {
    "collapsed": false
   },
   "outputs": [
    {
     "data": {
      "text/plain": [
       "(array([[1, 2, 2, 1],\n",
       "        [1, 2, 1, 2]]), array([0, 0, 1, 1]))"
      ]
     },
     "execution_count": 20,
     "metadata": {},
     "output_type": "execute_result"
    }
   ],
   "source": [
    "from data.softmax import X_train, Y_train\n",
    "\n",
    "X_train, Y_train"
   ]
  },
  {
   "cell_type": "markdown",
   "metadata": {},
   "source": [
    "### Train"
   ]
  },
  {
   "cell_type": "code",
   "execution_count": 21,
   "metadata": {
    "collapsed": false
   },
   "outputs": [],
   "source": [
    "from nn.deep.model import NeuralNetwork\n",
    "from nn.deep.helper import Model\n",
    "\n",
    "nn = NeuralNetwork(X_train, Y_train,\n",
    "                   Hs=HIDDENS, C=NUM_CLASSES,\n",
    "                   learning_rate=LEARNING_RATE, regularizer=REGULARIZER,\n",
    "                   batch_size=BATCH_SIZE, random_minibatch=RANDOM_MINIBATCH,\n",
    "                   gradient_checking=GRADIENT_CHECKING)\n",
    "\n",
    "def states(iters):\n",
    "    for _ in range(iters):\n",
    "        nn.learn()\n",
    "        yield nn.info\n",
    "        \n",
    "states = list(states(ITERATIONS))\n",
    "\n",
    "df = pd.DataFrame(states, columns=Model._fields)"
   ]
  },
  {
   "cell_type": "markdown",
   "metadata": {},
   "source": [
    "### Loss"
   ]
  },
  {
   "cell_type": "code",
   "execution_count": 22,
   "metadata": {
    "collapsed": false
   },
   "outputs": [
    {
     "data": {
      "text/plain": [
       "<matplotlib.axes._subplots.AxesSubplot at 0x7fc456f47828>"
      ]
     },
     "execution_count": 22,
     "metadata": {},
     "output_type": "execute_result"
    },
    {
     "data": {
      "image/png": "[encoded data removed]",
      "text/plain": [
       "<matplotlib.figure.Figure at 0x7fc45c757320>"
      ]
     },
     "metadata": {},
     "output_type": "display_data"
    }
   ],
   "source": [
    "df.loss.plot()"
   ]
  },
  {
   "cell_type": "markdown",
   "metadata": {},
   "source": [
    "### `xor`"
   ]
  },
  {
   "cell_type": "code",
   "execution_count": 23,
   "metadata": {
    "collapsed": false
   },
   "outputs": [
    {
     "name": "stderr",
     "output_type": "stream",
     "text": [
      "/home/ebanner/.anaconda/envs/py35/lib/python3.5/site-packages/matplotlib/collections.py:590: FutureWarning: elementwise comparison failed; returning scalar instead, but in the future will perform elementwise comparison\n",
      "  if self._edgecolors == str('face'):\n"
     ]
    },
    {
     "data": {
      "image/png": "[encoded data removed]",
      "text/plain": [
       "<matplotlib.figure.Figure at 0x7fc454ca59b0>"
      ]
     },
     "metadata": {},
     "output_type": "display_data"
    }
   ],
   "source": [
    "from ipywidgets import interact, fixed\n",
    "\n",
    "@interact(X_train=fixed(X_train), ys_train=fixed(Y_train), view_index=(0, len(states)-1), states=fixed(states))\n",
    "def plot(X_train, ys_train, view_index, states):\n",
    "    s = states[view_index]\n",
    "    nn = NeuralNetwork(X_train, Y_train, Hs=HIDDENS, C=NUM_CLASSES, params=s.params)\n",
    "    \n",
    "    xmin = ymin = 0\n",
    "    xmax = ymax = 3\n",
    "    step = .2\n",
    "    xx, yy = np.meshgrid(np.arange(xmin, xmax, step), np.arange(ymin, ymax, step))\n",
    "\n",
    "    # Plot the decision boundary. For that, we will assign a color to each\n",
    "    # point in the mesh [x_min, m_max]x[y_min, y_max].\n",
    "    fig, ax = plt.subplots()\n",
    "    Z = nn.predict(np.c_[xx.ravel(), yy.ravel()].T)\n",
    "\n",
    "    # Put the result into a color plot\n",
    "    Z = Z.reshape(xx.shape)\n",
    "    ax.contourf(xx, yy, Z, cmap=plt.cm.Paired)\n",
    "    ax.axis('off')\n",
    "\n",
    "    # Plot also the training points\n",
    "    ax.scatter(X_train[0, :], X_train[1, :], c=Y_train, cmap=plt.cm.Paired)"
   ]
  }
 ],
 "metadata": {
  "kernelspec": {
   "display_name": "Python 3",
   "language": "python",
   "name": "python3"
  },
  "language_info": {
   "codemirror_mode": {
    "name": "ipython",
    "version": 3
   },
   "file_extension": ".py",
   "mimetype": "text/x-python",
   "name": "python",
   "nbconvert_exporter": "python",
   "pygments_lexer": "ipython3",
   "version": "3.5.0"
  }
 },
 "nbformat": 4,
 "nbformat_minor": 0
}
